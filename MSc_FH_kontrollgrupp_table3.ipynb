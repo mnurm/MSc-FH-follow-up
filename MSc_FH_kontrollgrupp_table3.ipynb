{
 "cells": [
  {
   "cell_type": "code",
   "execution_count": null,
   "metadata": {},
   "outputs": [],
   "source": [
    "import pandas as pd\n",
    "\n"
   ]
  },
  {
   "cell_type": "code",
   "execution_count": null,
   "metadata": {},
   "outputs": [],
   "source": [
    "df_34=pd.read_csv('34indiv_genePLUS_DGN-20220404orig_query.csv',sep=\";\")\n",
    "df_291=pd.read_csv('291indiv_genePLUS_DGN-20220404orig_query.csv',sep=\";\")"
   ]
  },
  {
   "cell_type": "code",
   "execution_count": null,
   "metadata": {},
   "outputs": [],
   "source": [
    "lisa=[df_34,df_291]\n",
    "d={'Sisu':[\" \"]*20,'VV jah':[\" \"]*20,'VV mitte': [\" \"]*20}\n",
    "tabel=pd.DataFrame(data=d)\n",
    "\n",
    "\n",
    "for i in range(len(lisa)):\n",
    "    koik=len(lisa[i])\n",
    "    koikisikud=len(lisa[i]['Person skood'].unique())\n",
    "    txt= str(koikisikud) + \" people with \" + str(koik) + \" diagnosis codes - \" + str(round(koik/koikisikud,1)) + \" per person\" \n",
    "    tabel['Sisu'][0]= 'All diagnoses'\n",
    "    if i == 0:\n",
    "        tabel['VV jah'][0]= txt\n",
    "    else:\n",
    "        tabel['VV mitte'][0]= txt"
   ]
  },
  {
   "cell_type": "code",
   "execution_count": null,
   "metadata": {},
   "outputs": [],
   "source": [
    "df_34=df_34[df_34[\"DiagnosisConsolidated icd10 code\"].str.startswith(\"Z\")==False]\n",
    "df_34"
   ]
  },
  {
   "cell_type": "code",
   "execution_count": null,
   "metadata": {},
   "outputs": [],
   "source": [
    "df_291=df_291[df_291[\"DiagnosisConsolidated icd10 code\"].str.startswith(\"Z\")==False]\n",
    "df_291"
   ]
  },
  {
   "cell_type": "code",
   "execution_count": null,
   "metadata": {},
   "outputs": [],
   "source": [
    "varu34_filtr=df_34.copy()\n",
    "varu291_filtr=df_291.copy()"
   ]
  },
  {
   "cell_type": "code",
   "execution_count": null,
   "metadata": {},
   "outputs": [],
   "source": [
    "df_34=varu34_filtr\n",
    "df_34[['icd10 code', 'to_drop']] = df_34['DiagnosisConsolidated icd10 code'].str.split('.', 1,expand=True)\n",
    "df_34=df_34.drop(['to_drop','DiagnosisConsolidated icd10 name','DiagnosisConsolidated icd10 code'],axis=1)\n",
    "df_34.drop_duplicates(subset =[\"Person skood\",\"icd10 code\"],\n",
    "                     keep = \"first\", inplace = True)\n",
    "\n",
    "df_291=varu291_filtr\n",
    "df_291[['icd10 code', 'to_drop']] = df_291['DiagnosisConsolidated icd10 code'].str.split('.', 1,expand=True)\n",
    "df_291=df_291.drop(['to_drop','DiagnosisConsolidated icd10 name','DiagnosisConsolidated icd10 code'],axis=1)\n",
    "df_291.drop_duplicates(subset =[\"Person skood\",\"icd10 code\"],\n",
    "                     keep = \"first\", inplace = True)\n",
    "\n",
    "df_291"
   ]
  },
  {
   "cell_type": "code",
   "execution_count": null,
   "metadata": {},
   "outputs": [],
   "source": [
    "varu34=df_34.copy()\n",
    "varu291=df_291.copy()"
   ]
  },
  {
   "cell_type": "code",
   "execution_count": null,
   "metadata": {},
   "outputs": [],
   "source": [
    "lisa=[df_34,df_291]\n",
    "for i in range(len(lisa)):\n",
    "    koik=len(lisa[i])\n",
    "    koikisikud=len(lisa[i]['Person skood'].unique())\n",
    "    txt= str(koikisikud) + \" people with \" + str(koik) + \" diagnosis codes - \" + str(round(koik/koikisikud,1)) + \" per person\" \n",
    "    tabel['Sisu'][1]= 'All diagnoses (excl Z codes)'\n",
    "    if i == 0:\n",
    "        tabel['VV jah'][1]= txt\n",
    "    else:\n",
    "        tabel['VV mitte'][1]= txt"
   ]
  },
  {
   "cell_type": "code",
   "execution_count": null,
   "metadata": {},
   "outputs": [],
   "source": [
    "df_34=varu34\n",
    "df_34=df_34[df_34[\"icd10 code\"].str.contains(\"E78\")==True]\n",
    "df_34\n",
    "\n",
    "df_291=varu291\n",
    "df_291=df_291[df_291[\"icd10 code\"].str.contains(\"E78\")==True]\n",
    "df_291\n"
   ]
  },
  {
   "cell_type": "code",
   "execution_count": null,
   "metadata": {},
   "outputs": [],
   "source": [
    "lisa=[df_34,df_291]\n",
    "for i in range(len(lisa)):\n",
    "    koik=len(lisa[i])\n",
    "    koikisikud=len(lisa[i]['Person skood'].unique())\n",
    "    txt= str(koikisikud) + \" people with \" + str(koik) + \" diagnosis codes - \" + str(round(koik/koikisikud,1)) + \" per person\" \n",
    "    tabel['Sisu'][2]= 'Diagnoses with E78* code'\n",
    "    if i == 0:\n",
    "        tabel['VV jah'][2]= txt\n",
    "    else:\n",
    "        tabel['VV mitte'][2]= txt\n",
    "\n",
    "tabel"
   ]
  },
  {
   "cell_type": "code",
   "execution_count": null,
   "metadata": {},
   "outputs": [],
   "source": [
    "lisa=[df_34,df_291]\n",
    "for i in range(len(lisa)):\n",
    "    koik=len(lisa[i])\n",
    "    koikisikud=len(lisa[i]['Person skood'].unique())\n",
    "    tabel['Sisu'][3]= 'Percentage of participants with E78* code'\n",
    "    if i == 0:\n",
    "        txt= str(koikisikud) + \" (\" + str(round(koikisikud/len(varu34['Person skood'].unique())*100, 1)) + \"%)\"\n",
    "        tabel['VV jah'][3]= txt\n",
    "    else:\n",
    "        txt= str(koikisikud) + \" (\" + str(round(koikisikud/len(varu291['Person skood'].unique())*100, 1)) + \"%)\"\n",
    "        tabel['VV mitte'][3]= txt\n",
    "\n",
    "tabel"
   ]
  },
  {
   "cell_type": "code",
   "execution_count": null,
   "metadata": {},
   "outputs": [],
   "source": [
    "df_34=varu34\n",
    "df_34=df_34[df_34[\"DiagnosisConsolidated icd10 code\"]=='E78.0']\n",
    "df_34\n",
    "\n",
    "df_291=varu291\n",
    "df_291=df_291[df_291[\"DiagnosisConsolidated icd10 code\"]=='E78.0']\n",
    "df_291"
   ]
  },
  {
   "cell_type": "code",
   "execution_count": null,
   "metadata": {},
   "outputs": [],
   "source": [
    "lisa=[df_34,df_291]\n",
    "for i in range(len(lisa)):\n",
    "    koik=len(lisa[i])\n",
    "    koikisikud=len(lisa[i]['Person skood'].unique())\n",
    "    tabel['Sisu'][4]= 'Percentage of participants with E78.0 Pure hypercholesterolemia'\n",
    "    if i == 0:\n",
    "        txt= str(koikisikud) + \" (\" + str(round(koikisikud/len(varu34['Person skood'].unique())*100, 1)) + \"%)\"\n",
    "        tabel['VV jah'][4]= txt\n",
    "    else:\n",
    "        txt= str(koikisikud) + \" (\" + str(round(koikisikud/len(varu291['Person skood'].unique())*100, 1)) + \"%)\"\n",
    "        tabel['VV mitte'][4]= txt\n",
    "\n",
    "tabel"
   ]
  },
  {
   "cell_type": "code",
   "execution_count": null,
   "metadata": {},
   "outputs": [],
   "source": [
    "df_34=varu34\n",
    "df_34=df_34[df_34[\"DiagnosisConsolidated icd10 name\"].str.contains(\"nfarkt\")==True]\n",
    "df_34\n",
    "\n",
    "df_291=varu291\n",
    "df_291=df_291[df_291[\"DiagnosisConsolidated icd10 name\"].str.contains(\"nfarkt\")==True]\n",
    "df_291"
   ]
  },
  {
   "cell_type": "code",
   "execution_count": null,
   "metadata": {},
   "outputs": [],
   "source": [
    "lisa=[df_34,df_291]\n",
    "tys_diag=0\n",
    "tys_isik=pd.DataFrame(columns=['tys_isik'])\n",
    "for i in range(len(lisa)):\n",
    "    koik=len(lisa[i])\n",
    "    tys_diag=tys_diag+koik\n",
    "    koikisikud=len(lisa[i]['Person skood'].unique())\n",
    "    tys_isik=tys_isik.append({'tys_isik':lisa[i]['Person skood']}, ignore_index=True)\n",
    "    txt= str(koikisikud) + \" people with \" + str(koik) + \" diagnosis codes - \" + str(round(koik/koikisikud,1)) + \" per person\" \n",
    "    tabel['Sisu'][5]= 'All infarctus related diagnoses'\n",
    "    if i == 0:\n",
    "        tabel['VV jah'][5]= txt\n",
    "    else:\n",
    "        tabel['VV mitte'][5]= txt"
   ]
  },
  {
   "cell_type": "code",
   "execution_count": null,
   "metadata": {},
   "outputs": [],
   "source": [
    "lisa=[df_34,df_291]\n",
    "for i in range(len(lisa)):\n",
    "    koik=len(lisa[i])\n",
    "    koikisikud=len(lisa[i]['Person skood'].unique())\n",
    "    tabel['Sisu'][6]= 'Percentage of participants with infarctus diagnoses'\n",
    "    if i == 0:\n",
    "        txt= str(koikisikud) + \" (\" + str(round(koikisikud/len(varu34['Person skood'].unique())*100, 1)) + \"%)\"\n",
    "        tabel['VV jah'][6]= txt\n",
    "    else:\n",
    "        txt= str(koikisikud) + \" (\" + str(round(koikisikud/len(varu291['Person skood'].unique())*100, 1)) + \"%)\"\n",
    "        tabel['VV mitte'][6]= txt\n",
    "\n",
    "tabel"
   ]
  },
  {
   "cell_type": "code",
   "execution_count": null,
   "metadata": {},
   "outputs": [],
   "source": [
    "df_34=varu34\n",
    "df_34=df_34[df_34[\"DiagnosisConsolidated icd10 name\"].str.contains(\"teroskleroos\")==True]\n",
    "df_34\n",
    "\n",
    "df_291=varu291\n",
    "df_291=df_291[df_291[\"DiagnosisConsolidated icd10 name\"].str.contains(\"teroskleroos\")==True]\n",
    "df_291"
   ]
  },
  {
   "cell_type": "code",
   "execution_count": null,
   "metadata": {},
   "outputs": [],
   "source": [
    "lisa=[df_34,df_291]\n",
    "for i in range(len(lisa)):\n",
    "    koik=len(lisa[i])\n",
    "    tys_diag=tys_diag+koik\n",
    "    koikisikud=len(lisa[i]['Person skood'].unique())\n",
    "    tys_isik=tys_isik.append({'tys_isik':lisa[i]['Person skood']}, ignore_index=True)\n",
    "    txt= str(koikisikud) + \" people with \" + str(koik) + \" diagnosis codes - \" + str(round(koik/koikisikud,1)) + \" per person\" \n",
    "    tabel['Sisu'][7]= 'All atherosclerosis related diagnoses'\n",
    "    if i == 0:\n",
    "        tabel['VV jah'][7]= txt\n",
    "    else:\n",
    "        tabel['VV mitte'][7]= txt\n",
    "\n",
    "tabel"
   ]
  },
  {
   "cell_type": "code",
   "execution_count": null,
   "metadata": {},
   "outputs": [],
   "source": [
    "lisa=[df_34,df_291]\n",
    "for i in range(len(lisa)):\n",
    "    koik=len(lisa[i])\n",
    "    koikisikud=len(lisa[i]['Person skood'].unique())\n",
    "    tabel['Sisu'][10]= 'Percentage of participants with atherosclerosis diagnoses'\n",
    "    if i == 0:\n",
    "        txt= str(koikisikud) + \" (\" + str(round(koikisikud/len(varu34['Person skood'].unique())*100, 1)) + \"%)\"\n",
    "        tabel['VV jah'][10]= txt\n",
    "    else:\n",
    "        txt= str(koikisikud) + \" (\" + str(round(koikisikud/len(varu291['Person skood'].unique())*100, 1)) + \"%)\"\n",
    "        tabel['VV mitte'][10]= txt\n",
    "\n",
    "tabel"
   ]
  },
  {
   "cell_type": "code",
   "execution_count": null,
   "metadata": {},
   "outputs": [],
   "source": [
    "df_34=varu34\n",
    "df_34=df_34[df_34[\"DiagnosisConsolidated icd10 name\"].str.contains(\"sheemia\")==True]\n",
    "df_34\n",
    "\n",
    "df_291=varu291\n",
    "df_291=df_291[df_291[\"DiagnosisConsolidated icd10 name\"].str.contains(\"sheemia\")==True]\n",
    "df_291"
   ]
  },
  {
   "cell_type": "code",
   "execution_count": null,
   "metadata": {},
   "outputs": [],
   "source": [
    "lisa=[df_34,df_291]\n",
    "tys_diag=0\n",
    "\n",
    "for i in range(len(lisa)):\n",
    "    koik=len(lisa[i])\n",
    "    tys_diag=tys_diag+koik\n",
    "    koikisikud=len(lisa[i]['Person skood'].unique())\n",
    "    txt= str(koikisikud) + \" people with \" + str(koik) + \" diagnosis codes - \" + str(round(koik/koikisikud,1)) + \" per person\" \n",
    "    tabel['Sisu'][8]= 'All ischemia related diagnoses'\n",
    "    if i == 0:\n",
    "        tabel['VV jah'][8]= txt\n",
    "    else:\n",
    "        tabel['VV mitte'][8]= txt\n",
    "\n",
    "tabel"
   ]
  },
  {
   "cell_type": "code",
   "execution_count": null,
   "metadata": {},
   "outputs": [],
   "source": [
    "lisa=[df_34,df_291]\n",
    "for i in range(len(lisa)):\n",
    "    koik=len(lisa[i])\n",
    "    koikisikud=len(lisa[i]['Person skood'].unique())\n",
    "    tabel['Sisu'][9]= 'Percentage of participants with ischemia diagnoses'\n",
    "    if i == 0:\n",
    "        txt= str(koikisikud) + \" (\" + str(round(koikisikud/len(varu34['Person skood'].unique())*100, 1)) + \"%)\"\n",
    "        tabel['VV jah'][9]= txt\n",
    "    else:\n",
    "        txt= str(koikisikud) + \" (\" + str(round(koikisikud/len(varu291['Person skood'].unique())*100, 1)) + \"%)\"\n",
    "        tabel['VV mitte'][9]= txt\n",
    "\n",
    "tabel"
   ]
  },
  {
   "cell_type": "code",
   "execution_count": null,
   "metadata": {},
   "outputs": [],
   "source": [
    "df_34=varu34\n",
    "df_34=df_34[df_34[\"DiagnosisConsolidated icd10 code\"].str.contains(\"K80\")==True]\n",
    "df_34\n",
    "\n",
    "df_291=varu291\n",
    "df_291=df_291[df_291[\"DiagnosisConsolidated icd10 code\"].str.contains(\"K80\")==True]\n",
    "df_291"
   ]
  },
  {
   "cell_type": "code",
   "execution_count": null,
   "metadata": {},
   "outputs": [],
   "source": [
    "lisa=[df_34,df_291]\n",
    "for i in range(len(lisa)):\n",
    "    koik=len(lisa[i])\n",
    "    koikisikud=len(lisa[i]['Person skood'].unique())\n",
    "    txt= str(koikisikud) + \" people with \" + str(koik) + \" diagnosis codes - \" + str(round(koik/koikisikud,1)) + \" per person\" \n",
    "    tabel['Sisu'][11]= 'K80* Cholelithiasis'\n",
    "    if i == 0:\n",
    "        tabel['VV jah'][11]= txt\n",
    "    else:\n",
    "        tabel['VV mitte'][11]= txt\n"
   ]
  },
  {
   "cell_type": "code",
   "execution_count": null,
   "metadata": {},
   "outputs": [],
   "source": [
    "lisa=[df_34,df_291]\n",
    "for i in range(len(lisa)):\n",
    "    koik=len(lisa[i])\n",
    "    koikisikud=len(lisa[i]['Person skood'].unique())\n",
    "    tabel['Sisu'][12]= 'Percentage of participants with K80* Cholelithiasis diagnoses'\n",
    "    if i == 0:\n",
    "        txt= str(koikisikud) + \" (\" + str(round(koikisikud/len(varu34['Person skood'].unique())*100, 1)) + \"%)\"\n",
    "        tabel['VV jah'][12]= txt\n",
    "    else:\n",
    "        txt= str(koikisikud) + \" (\" + str(round(koikisikud/len(varu291['Person skood'].unique())*100, 1)) + \"%)\"\n",
    "        tabel['VV mitte'][12]= txt\n",
    "\n",
    "tabel"
   ]
  },
  {
   "cell_type": "code",
   "execution_count": null,
   "metadata": {},
   "outputs": [],
   "source": [
    "pattern = 'sheemia|teroskleroos'\n",
    "#mask = data[’listed_in’].str.contains(pattern, case=False, na=False)\n",
    "\n",
    "df_34=varu34\n",
    "df_34=df_34[df_34[\"DiagnosisConsolidated icd10 name\"].str.contains(pattern, case=False, na=False)]\n",
    "df_34\n",
    "\n",
    "df_291=varu291\n",
    "df_291=df_291[df_291[\"DiagnosisConsolidated icd10 name\"].str.contains(pattern, case=False, na=False)]\n",
    "df_291"
   ]
  },
  {
   "cell_type": "code",
   "execution_count": null,
   "metadata": {},
   "outputs": [],
   "source": [
    "lisa=[df_34,df_291]\n",
    "for i in range(len(lisa)):\n",
    "    koik=len(lisa[i])\n",
    "    koikisikud=len(lisa[i]['Person skood'].unique())\n",
    "    txt= str(koikisikud) + \" people with \" + str(koik) + \" diagnosis codes - \" + str(round(koik/koikisikud,1)) + \" per person\" \n",
    "    tabel['Sisu'][12]= 'All potential FH complications'\n",
    "    if i == 0:\n",
    "        tabel['VV jah'][12]= txt\n",
    "    else:\n",
    "        tabel['VV mitte'][12]= txt\n"
   ]
  },
  {
   "cell_type": "code",
   "execution_count": null,
   "metadata": {},
   "outputs": [],
   "source": [
    "\n",
    "for i in range(len(lisa)):\n",
    "    koik=len(lisa[i])\n",
    "    koikisikud=len(lisa[i]['Person skood'].unique())\n",
    "    tabel['Sisu'][13]= 'Percentage of participants with potential FH complications'\n",
    "    if i == 0:\n",
    "        txt= str(koikisikud) + \" (\" + str(round(koikisikud/len(varu34['Person skood'].unique())*100, 1)) + \"%)\"\n",
    "        tabel['VV jah'][13]= txt\n",
    "    else:\n",
    "        txt= str(koikisikud) + \" (\" + str(round(koikisikud/len(varu291['Person skood'].unique())*100, 1)) + \"%)\"\n",
    "        tabel['VV mitte'][13]= txt\n",
    "\n",
    "tabel"
   ]
  },
  {
   "cell_type": "code",
   "execution_count": null,
   "metadata": {},
   "outputs": [],
   "source": [
    "tabel.to_excel('20220410_vv+mittevv_diag.xlsx')"
   ]
  },
  {
   "cell_type": "code",
   "execution_count": null,
   "metadata": {},
   "outputs": [],
   "source": [
    "pattern = 'I20|I21|I22|I23|I24|I25|I63|I65|I66'\n",
    "#mask = data[’listed_in’].str.contains(pattern, case=False, na=False)\n",
    "\n",
    "df_34=varu34\n",
    "df_34=df_34[df_34[\"icd10 code\"].str.contains(pattern, case=False, na=False)]\n",
    "df_34\n",
    "\n",
    "df_291=varu291\n",
    "df_291=df_291[df_291[\"icd10 code\"].str.contains(pattern, case=False, na=False)]\n",
    "df_291"
   ]
  },
  {
   "cell_type": "code",
   "execution_count": null,
   "metadata": {},
   "outputs": [],
   "source": [
    "lisa=[df_34,df_291]\n",
    "for i in range(len(lisa)):\n",
    "    koik=len(lisa[i])\n",
    "    koikisikud=len(lisa[i]['Person skood'].unique())\n",
    "    tabel['Sisu'][14]= 'Percentage of Infarctus'\n",
    "    if i == 0:\n",
    "        txt= str(koikisikud) + \" (\" + str(round(koikisikud/len(varu34['Person skood'].unique())*100, 1)) + \"%)\"\n",
    "        tabel['VV jah'][14]= txt\n",
    "    else:\n",
    "        txt= str(koikisikud) + \" (\" + str(round(koikisikud/len(varu291['Person skood'].unique())*100, 1)) + \"%)\"\n",
    "        tabel['VV mitte'][14]= txt\n",
    "\n",
    "tabel"
   ]
  },
  {
   "cell_type": "code",
   "execution_count": null,
   "metadata": {},
   "outputs": [],
   "source": [
    "pattern = 'G45|I25'\n",
    "#mask = data[’listed_in’].str.contains(pattern, case=False, na=False)\n",
    "\n",
    "df_34=varu34\n",
    "df_34=df_34[df_34[\"icd10 code\"].str.contains(pattern, case=False, na=False)]\n",
    "df_34\n",
    "\n",
    "df_291=varu291\n",
    "df_291=df_291[df_291[\"icd10 code\"].str.contains(pattern, case=False, na=False)]\n",
    "df_291"
   ]
  },
  {
   "cell_type": "code",
   "execution_count": null,
   "metadata": {},
   "outputs": [],
   "source": [
    "lisa=[df_34,df_291]\n",
    "for i in range(len(lisa)):\n",
    "    koik=len(lisa[i])\n",
    "    koikisikud=len(lisa[i]['Person skood'].unique())\n",
    "    tabel['Sisu'][15]= 'Percentage of Ischemia'\n",
    "    if i == 0:\n",
    "        txt= str(koikisikud) + \" (\" + str(round(koikisikud/len(varu34['Person skood'].unique())*100, 1)) + \"%)\"\n",
    "        tabel['VV jah'][15]= txt\n",
    "    else:\n",
    "        txt= str(koikisikud) + \" (\" + str(round(koikisikud/len(varu291['Person skood'].unique())*100, 1)) + \"%)\"\n",
    "        tabel['VV mitte'][15]= txt\n",
    "\n",
    "tabel"
   ]
  },
  {
   "cell_type": "code",
   "execution_count": null,
   "metadata": {},
   "outputs": [],
   "source": [
    "pattern = 'I67.2|I25|I70'\n",
    "#mask = data[’listed_in’].str.contains(pattern, case=False, na=False)\n",
    "\n",
    "df_34=varu34_filtr\n",
    "df_34=df_34[df_34[\"icd10 code\"].str.contains(pattern, case=False, na=False)]\n",
    "df_34\n",
    "\n",
    "df_291=varu291_filtr\n",
    "df_291=df_291[df_291[\"icd10 code\"].str.contains(pattern, case=False, na=False)]\n",
    "df_291\n"
   ]
  },
  {
   "cell_type": "code",
   "execution_count": null,
   "metadata": {},
   "outputs": [],
   "source": [
    "lisa=[df_34,df_291]\n",
    "for i in range(len(lisa)):\n",
    "    koik=len(lisa[i])\n",
    "    koikisikud=len(lisa[i]['Person skood'].unique())\n",
    "    tabel['Sisu'][16]= 'Percentage of atherosclerosis'\n",
    "    if i == 0:\n",
    "        txt= str(koikisikud) + \" (\" + str(round(koikisikud/len(varu34['Person skood'].unique())*100, 1)) + \"%)\"\n",
    "        tabel['VV jah'][16]= txt\n",
    "    else:\n",
    "        txt= str(koikisikud) + \" (\" + str(round(koikisikud/len(varu291['Person skood'].unique())*100, 1)) + \"%)\"\n",
    "        tabel['VV mitte'][16]= txt\n",
    "\n",
    "tabel"
   ]
  },
  {
   "cell_type": "code",
   "execution_count": null,
   "metadata": {},
   "outputs": [],
   "source": [
    "pattern = 'I20|I21|I22|I23|I24|I25|I63|I65|I66|I67.2|I70|G45'\n",
    "#mask = data[’listed_in’].str.contains(pattern, case=False, na=False)\n",
    "\n",
    "df_34=varu34_filtr\n",
    "df_34=df_34[df_34[\"DiagnosisConsolidated icd10 code\"].str.contains(pattern, case=False, na=False)]\n",
    "df_34\n",
    "\n",
    "df_291=varu291_filtr\n",
    "df_291=df_291[df_291[\"DiagnosisConsolidated icd10 code\"].str.contains(pattern, case=False, na=False)]\n",
    "df_291"
   ]
  },
  {
   "cell_type": "code",
   "execution_count": null,
   "metadata": {},
   "outputs": [],
   "source": [
    "lisa=[df_34,df_291]\n",
    "for i in range(len(lisa)):\n",
    "    koik=len(lisa[i])\n",
    "    koikisikud=len(lisa[i]['Person skood'].unique())\n",
    "    tabel['Sisu'][17]= 'Percentage of FH complications'\n",
    "    if i == 0:\n",
    "        txt= str(koikisikud) + \" (\" + str(round(koikisikud/len(varu34['Person skood'].unique())*100, 1)) + \"%)\"\n",
    "        tabel['VV jah'][17]= txt\n",
    "    else:\n",
    "        txt= str(koikisikud) + \" (\" + str(round(koikisikud/len(varu291['Person skood'].unique())*100, 1)) + \"%)\"\n",
    "        tabel['VV mitte'][17]= txt\n",
    "\n",
    "tabel"
   ]
  }
 ],
 "metadata": {
  "kernelspec": {
   "display_name": "Python 3",
   "language": "python",
   "name": "python3"
  },
  "language_info": {
   "codemirror_mode": {
    "name": "ipython",
    "version": 3
   },
   "file_extension": ".py",
   "mimetype": "text/x-python",
   "name": "python",
   "nbconvert_exporter": "python",
   "pygments_lexer": "ipython3",
   "version": "3.8.5"
  }
 },
 "nbformat": 4,
 "nbformat_minor": 4
}
