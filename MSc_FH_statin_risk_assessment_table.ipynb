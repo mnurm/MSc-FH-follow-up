{
 "cells": [
  {
   "cell_type": "code",
   "execution_count": null,
   "metadata": {},
   "outputs": [],
   "source": [
    "import pandas as pd\n",
    "%matplotlib inline\n",
    "df=pd.read_csv('200K_SLCO1B1_haplotypes-KK-AR-20220214.csv',sep=\";\")\n",
    "oige=pd.read_csv('query-Vcode_to_Scode_ALL-20220214.csv',sep=\";\")"
   ]
  },
  {
   "cell_type": "code",
   "execution_count": null,
   "metadata": {},
   "outputs": [],
   "source": [
    "print(df.head())\n",
    "df"
   ]
  },
  {
   "cell_type": "code",
   "execution_count": null,
   "metadata": {},
   "outputs": [],
   "source": [
    "print(oige.head())\n",
    "oige"
   ]
  },
  {
   "cell_type": "code",
   "execution_count": null,
   "metadata": {},
   "outputs": [],
   "source": [
    "#FH table equivalence\n",
    "\n",
    "#df1=pd.DataFrame({'x':df['POS ch37'],'NCBI':'', 'VarMap':''})\n",
    "\n",
    "df1=df.copy()\n",
    "\n",
    "df1['Skood']=''\n",
    "df1['Gender']=''\n",
    "df1['Birth year']=''\n",
    "df1['Age at agreement']=''\n",
    "df1['Death year']=''\n",
    "u=0\n",
    "\n",
    "for i in range (len(df1)):\n",
    "    vkood=str(df1['VKOOD'][i])\n",
    "    if oige['CONCATSTR(Sample vkood)'].str.contains(vkood).any()== True:\n",
    "        row_n=oige[oige['CONCATSTR(Sample vkood)'].str.contains(str(vkood),na=False)]\n",
    "        row_numbers=row_n.index[0]\n",
    "        df1['Skood'][i]=oige['Person skood'][row_numbers]\n",
    "        df1['Gender'][i]=oige['Person gender name'][row_numbers]\n",
    "        df1['Birth year'][i]=oige['Person birthYear'][row_numbers]\n",
    "        df1['Age at agreement'][i]=oige['Person ageAtAgreement'][row_numbers]\n",
    "        df1['Death year'][i]=oige['Person deathYear'][row_numbers]\n",
    "    else:\n",
    "        print(\"vkood puudub \", vkood)\n",
    "        u=u+1\n",
    "\n",
    "print(\"Puudu on \",u)\n",
    "\n",
    "    "
   ]
  },
  {
   "cell_type": "code",
   "execution_count": null,
   "metadata": {},
   "outputs": [],
   "source": [
    "df1.to_csv('20220206_VARV_FH_set1_325indiv_genePLUS_medicationsConsolid-20220127.csv',sep=\",\",header=True)"
   ]
  },
  {
   "cell_type": "code",
   "execution_count": null,
   "metadata": {},
   "outputs": [],
   "source": [
    "df1.to_excel('20220206_VARV_FH_set1_325indiv_genePLUS_medicationsConsolid-20220127.xlsx')"
   ]
  },
  {
   "cell_type": "code",
   "execution_count": null,
   "metadata": {},
   "outputs": [],
   "source": [
    "snp=pd.read_csv('FHSNPinfo.csv',sep=\";\")"
   ]
  },
  {
   "cell_type": "code",
   "execution_count": null,
   "metadata": {},
   "outputs": [],
   "source": [
    "uus_df=pd.read_csv('20220216_FH_Skoodidega_statiinideennustus_Skoodidega_MN.csv',sep=\";\")\n",
    "uus_df"
   ]
  },
  {
   "cell_type": "code",
   "execution_count": null,
   "metadata": {},
   "outputs": [],
   "source": [
    "uus_df2=uus_df.copy()\n",
    "\n",
    "uus_df2['FHcode']=''\n",
    "uus_df2['POS_GRCh37']=''\n",
    "uus_df2['REF']=''\n",
    "uus_df2['ALT']=''\n",
    "uus_df2['Gene']=''\n",
    "uus_df2['Nucleotide change']=''\n",
    "\n",
    "f=0\n",
    "lisa=snp[\"Scode\"].values.tolist()\n",
    "\n",
    "for i in range (len(uus_df2)):\n",
    "    skood=str(uus_df2['Skood'][i])\n",
    "    if skood in lisa:\n",
    "        row_numbers=snp[snp['Scode'] == skood].index[0]\n",
    "        uus_df2['has any FH var'][i]=1\n",
    "        uus_df2['FHcode'][i]=snp['FH kood Alveri töös'][row_numbers]\n",
    "        uus_df2['FH variant SNP name'][i]=snp['rs_name'][row_numbers]\n",
    "        uus_df2['POS_GRCh37'][i]=snp['POS_GRCh37'][row_numbers]\n",
    "        uus_df2['REF'][i]=snp['REF'][row_numbers]\n",
    "        uus_df2['ALT'][i]=snp['ALT'][row_numbers]\n",
    "        uus_df2['FH variant GENE name'][i]=snp['Gene'][row_numbers]\n",
    "        uus_df2['Nucleotide change'][i]=snp['Nucleotide change'][row_numbers]\n",
    "        print(skood,row_numbers)\n",
    "        f=f+1\n",
    "        \n",
    "print(f)\n",
    "        "
   ]
  },
  {
   "cell_type": "code",
   "execution_count": null,
   "metadata": {},
   "outputs": [],
   "source": [
    "for i in range(len(uus_df2)):\n",
    "    if uus_df2['has any FH var'][i]!=1:\n",
    "        uus_df2['has any FH var'][i]=0\n",
    "        \n",
    "uus_df2"
   ]
  },
  {
   "cell_type": "code",
   "execution_count": null,
   "metadata": {},
   "outputs": [],
   "source": [
    "uus_df3=uus_df2.copy()\n",
    "uus_df3.sort_values(\"Skood\",inplace=True)\n",
    "bool_series = uus_df3[\"Skood\"].duplicated(keep=False)\n",
    "uus_df3.drop(columns=[\"Gender\",\"andmestik\",\"FHcode\",\"Geen\"])\n",
    "pd.set_option('display.max_columns', None)\n",
    "vaba=uus_df3[bool_series]"
   ]
  },
  {
   "cell_type": "code",
   "execution_count": null,
   "metadata": {},
   "outputs": [],
   "source": [
    "vaba.sort_values(\"Skood\")"
   ]
  },
  {
   "cell_type": "code",
   "execution_count": null,
   "metadata": {},
   "outputs": [],
   "source": [
    "vaba.reset_index(drop=True)"
   ]
  },
  {
   "cell_type": "code",
   "execution_count": null,
   "metadata": {},
   "outputs": [],
   "source": [
    "vaba=vaba.reset_index(drop=True)\n",
    "r=0\n",
    "\n",
    "vale=pd.DataFrame(columns = ['Skood','Vkood','Hinnang','Genotüüp'] )\n",
    " \n",
    "\n",
    "\n",
    "for i in range(len(vaba)-1):\n",
    "    skood=vaba['Skood'][i]\n",
    "    if skood==vaba['Skood'][i+1]:\n",
    "        if vaba['Genotüüp'][i]==vaba['Genotüüp'][i+1] and vaba['Soovitus'][i]==vaba['Soovitus'][i+1]:\n",
    "            r=r+1\n",
    "        else:\n",
    "            print(\"discord \", skood, i)\n",
    "            vale=vale.append({'Skood':skood,'Vkood':vaba['VKOOD'][i],'Hinnang':vaba['Hinnang'][i],'Genotüüp':vaba['Genotüüp'][i]},ignore_index=True)\n",
    "            vale=vale.append({'Skood':skood,'Vkood':vaba['VKOOD'][i+1],'Hinnang':vaba['Hinnang'][i+1],'Genotüüp':vaba['Genotüüp'][i+1]},ignore_index=True)\n",
    "print(r)"
   ]
  },
  {
   "cell_type": "code",
   "execution_count": null,
   "metadata": {},
   "outputs": [],
   "source": [
    "vale"
   ]
  },
  {
   "cell_type": "code",
   "execution_count": null,
   "metadata": {},
   "outputs": [],
   "source": [
    "yheksa_df=pd.read_csv('FH_set1_973indiv_geneNA_BMI_person_portrait-20211122.csv',sep=\";\")\n",
    "yheksa_df"
   ]
  },
  {
   "cell_type": "code",
   "execution_count": null,
   "metadata": {},
   "outputs": [],
   "source": [
    "uus_df2_varu=uus_df2.copy()\n",
    "\n",
    "g=0\n",
    "lisa2=yheksa_df[\"Person skood\"].values.tolist()\n",
    "\n",
    "for i in range (len(uus_df2)):\n",
    "    skood=str(uus_df2['Skood'][i])\n",
    "    if skood in lisa2:\n",
    "        uus_df2['has not confirmed FH variant (900+)'][i]=1\n",
    "        g=g+1\n",
    "    else:\n",
    "        uus_df2['has not confirmed FH variant (900+)'][i]=0\n",
    "        \n",
    "print(g)"
   ]
  },
  {
   "cell_type": "code",
   "execution_count": null,
   "metadata": {},
   "outputs": [],
   "source": [
    "uus_df2.to_excel('20220218_FH_statiinidetabel_täidetud_MN.xlsx')"
   ]
  },
  {
   "cell_type": "code",
   "execution_count": null,
   "metadata": {},
   "outputs": [],
   "source": [
    "oige_uus_df2=pd.read_csv('20220218_FH_statiinidetabel_täidetud_MN.csv',sep=\";\")\n",
    "oige_uus_df2"
   ]
  },
  {
   "cell_type": "code",
   "execution_count": null,
   "metadata": {},
   "outputs": [],
   "source": [
    "uus_df4=oige_uus_df2.copy()\n",
    "\n",
    "import re"
   ]
  },
  {
   "cell_type": "code",
   "execution_count": null,
   "metadata": {},
   "outputs": [],
   "source": [
    "uus_df4=uus_df4.fillna(value='.')\n",
    "uus_df4['FHcode']=uus_df4['FHcode'].astype(str)\n",
    "#uus_df4['FHcode'] = [ i.removesuffix('.0') for i in uus_df4['FHcode'] ]\n",
    "uus_df4"
   ]
  },
  {
   "cell_type": "code",
   "execution_count": null,
   "metadata": {},
   "outputs": [],
   "source": [
    "s=uus_df4['FHcode']\n",
    "lisa3=[]\n",
    "\n",
    "for i in range(len(uus_df4)):\n",
    "    if re.search(\"\\A745\",s[i])!=None:\n",
    "        lisa3.append(s[i])"
   ]
  },
  {
   "cell_type": "code",
   "execution_count": null,
   "metadata": {},
   "outputs": [],
   "source": [
    "lisa3"
   ]
  },
  {
   "cell_type": "code",
   "execution_count": null,
   "metadata": {},
   "outputs": [],
   "source": [
    "apob=0\n",
    "ldlr=0\n",
    "\n",
    "for i in range(len(uus_df4)):\n",
    "    if uus_df4['has any FH var'][i]==1:\n",
    "        print(uus_df4['has any FH var'][i])\n",
    "        if uus_df4['FH variant GENE name'][i]=='APOB':\n",
    "            uus_df4['have APOB variant'][i]=1\n",
    "            apob=apob+1\n",
    "            if re.search(\"\\A745\",uus_df4['FHcode'][i])!=None:\n",
    "                uus_df4[\"has APOB variant AND has had feedback previously\"][i]=1\n",
    "                uus_df4['has APOB variant AND has NOT had feedback previously'][i]=0\n",
    "            else:\n",
    "                uus_df4[\"has APOB variant AND has had feedback previously\"][i]=0\n",
    "                uus_df4['has APOB variant AND has NOT had feedback previously'][i]=1\n",
    "        else:\n",
    "            uus_df4['have APOB variant'][i]=0\n",
    "                \n",
    "        if uus_df4['FH variant GENE name'][i]=='LDLR':\n",
    "            uus_df4['have LDLR variant'][i]=1\n",
    "            ldlr=ldlr+1\n",
    "            if re.search(\"\\A745\",s[i])!=None:\n",
    "                uus_df4['has LDLR variant AND has had feedback previously'][i]=1\n",
    "                uus_df4['has LDLR variant AND has NOT had feedback previously'][i]=0\n",
    "            else:\n",
    "                uus_df4['has LDLR variant AND has had feedback previously'][i]=0\n",
    "                uus_df4['has LDLR variant AND has NOT had feedback previously'][i]=1\n",
    "        else:\n",
    "            uus_df4['have LDLR variant'][i]=0\n",
    "        if uus_df4['FH variant GENE name'][i]=='APOB&LDLR':\n",
    "            uus_df4['have APOB+LDLR variant'][i]=1\n",
    "            uus_df4['has APOB+LDLR variant AND has had feedback previously'][i]=0\n",
    "            uus_df4['has APOB+LDLR variant AND has NOT had feedback previously'][i]=1\n",
    "\n",
    "print(apob)\n",
    "print(ldlr)\n",
    "   "
   ]
  },
  {
   "cell_type": "code",
   "execution_count": null,
   "metadata": {},
   "outputs": [],
   "source": [
    "uus_df4.to_excel('20220220_FH_statiinidetabel_täidetud_MN_lõplik.xlsx')"
   ]
  },
  {
   "cell_type": "code",
   "execution_count": null,
   "metadata": {},
   "outputs": [],
   "source": [
    "stathinnangud=pd.read_csv('20220220_FH_statiinidetabel_täidetud_MN_lõplik.csv',sep=\";\")\n",
    "stathinnangud"
   ]
  },
  {
   "cell_type": "code",
   "execution_count": null,
   "metadata": {},
   "outputs": [],
   "source": [
    "varu2=stathinnangud.copy()\n",
    "\n",
    "stathinnangud_34=pd.DataFrame()\n",
    "kontroll2=pd.DataFrame({'Skood':skood_list, 'Kontroll':''})\n",
    " \n",
    "\n",
    "\n",
    "for i in range(len(varu2)):\n",
    "    skood=varu2['Skood'][i]\n",
    "    if skood in skood_list:\n",
    "        stathinnangud_34=stathinnangud_34.append(varu2.iloc[i,:])\n",
    "        kontroll_i=skood_list.index(skood)\n",
    "        kontroll2['Kontroll'][kontroll_i]=\"on\"\n",
    "\n"
   ]
  },
  {
   "cell_type": "code",
   "execution_count": null,
   "metadata": {},
   "outputs": [],
   "source": [
    "stathinnangud_34"
   ]
  },
  {
   "cell_type": "code",
   "execution_count": null,
   "metadata": {},
   "outputs": [],
   "source": [
    "stathinnangud_34.to_excel('20220308_FH_34isikut_statiinihinnangud_MN.xlsx')"
   ]
  },
  {
   "cell_type": "code",
   "execution_count": null,
   "metadata": {},
   "outputs": [],
   "source": [
    "retseptid_df=pd.read_csv('stat_retseptid.csv',sep=\";\")\n",
    "retseptid_df"
   ]
  },
  {
   "cell_type": "code",
   "execution_count": null,
   "metadata": {},
   "outputs": [],
   "source": [
    "nimekiri_34=pd.read_csv('20220118_VV_AINULT_-FH_set1-34indiv-genePLUS-BMI_person_portrait-MN.csv',sep=\";\")\n",
    "nimekiri_34"
   ]
  },
  {
   "cell_type": "code",
   "execution_count": null,
   "metadata": {},
   "outputs": [],
   "source": [
    "skood_list=list(nimekiri_34['Person skood'])\n",
    "skood_list"
   ]
  },
  {
   "cell_type": "code",
   "execution_count": null,
   "metadata": {},
   "outputs": [],
   "source": [
    "varu=retseptid_df.copy()\n",
    "\n",
    "retseptid_34=pd.DataFrame()\n",
    "kontroll=pd.DataFrame({'Skood':skood_list, 'Kontroll':''})\n",
    " \n",
    "\n",
    "\n",
    "for i in range(len(varu)):\n",
    "    skood=varu['Person skood'][i]\n",
    "    if skood in skood_list:\n",
    "        retseptid_34=retseptid_34.append(varu.iloc[i,:])\n",
    "        kontroll_i=skood_list.index(skood)\n",
    "        kontroll['Kontroll'][kontroll_i]=\"on\"\n",
    "\n"
   ]
  },
  {
   "cell_type": "code",
   "execution_count": null,
   "metadata": {},
   "outputs": [],
   "source": [
    "kontroll"
   ]
  },
  {
   "cell_type": "code",
   "execution_count": null,
   "metadata": {},
   "outputs": [],
   "source": [
    "retseptid_34.to_excel('20220308_FH_34isikut_statiinideretseptid_MN.xlsx')"
   ]
  },
  {
   "cell_type": "code",
   "execution_count": null,
   "metadata": {},
   "outputs": [],
   "source": [
    "filtr_291=pd.read_csv('20220118_MITTE_VV_-FH_set1-291indiv-genePLUS-BMI_person_portrait-MN.csv',sep=\";\")"
   ]
  },
  {
   "cell_type": "code",
   "execution_count": null,
   "metadata": {},
   "outputs": [],
   "source": [
    "skood_list=list(filtr_291['Person skood'])\n",
    "skood_list"
   ]
  },
  {
   "cell_type": "code",
   "execution_count": null,
   "metadata": {},
   "outputs": [],
   "source": [
    "len(skood_list)"
   ]
  },
  {
   "cell_type": "code",
   "execution_count": null,
   "metadata": {},
   "outputs": [],
   "source": [
    "orig_291=pd.read_csv('200plusK_recipe_statin-C10AorB-20220404orig_query.csv',sep=\";\")\n",
    "orig_291"
   ]
  },
  {
   "cell_type": "code",
   "execution_count": null,
   "metadata": {},
   "outputs": [],
   "source": [
    "stat291=pd.DataFrame()\n",
    "kontroll=pd.DataFrame({'Skood':skood_list, 'Kontroll':''})\n",
    "\n",
    "\n",
    "for i in range(len(orig_291)):\n",
    "    skood=orig_291['Person skood'][i]\n",
    "    if skood in skood_list:\n",
    "        stat291=stat291.append(orig_291.iloc[i,:])\n",
    "        print(i, skood)\n",
    "        kontroll_i=skood_list.index(skood)\n",
    "        kontroll['Kontroll'][kontroll_i]=\"on\"\n"
   ]
  },
  {
   "cell_type": "code",
   "execution_count": null,
   "metadata": {},
   "outputs": [],
   "source": [
    "stat291.to_excel('20220404_FH_156isikut_statiinideretseptid_MN.xlsx')"
   ]
  }
 ],
 "metadata": {
  "colab": {
   "collapsed_sections": [
    "uBpfDPBjPCEZ",
    "63Y-epTJPCEb"
   ],
   "name": "Copy of IDS2020_HW03_MN.ipynb",
   "provenance": []
  },
  "kernelspec": {
   "display_name": "Python 3",
   "language": "python",
   "name": "python3"
  },
  "language_info": {
   "codemirror_mode": {
    "name": "ipython",
    "version": 3
   },
   "file_extension": ".py",
   "mimetype": "text/x-python",
   "name": "python",
   "nbconvert_exporter": "python",
   "pygments_lexer": "ipython3",
   "version": "3.8.5"
  }
 },
 "nbformat": 4,
 "nbformat_minor": 1
}
