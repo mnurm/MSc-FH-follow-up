{
 "cells": [
  {
   "cell_type": "code",
   "execution_count": null,
   "metadata": {},
   "outputs": [],
   "source": [
    "import pandas as pd\n",
    "import seaborn as sns\n",
    "import numpy as np\n",
    "%matplotlib inline\n",
    "import matplotlib.pyplot as plt\n",
    "import matplotlib.dates as mdates\n",
    "from matplotlib.lines import Line2D  # for legend handle\n",
    "from statistics import mean\n",
    "\n",
    "\n"
   ]
  },
  {
   "cell_type": "code",
   "execution_count": null,
   "metadata": {},
   "outputs": [],
   "source": [
    "df=pd.read_csv('20220404_FH_156isikut_statiinideretseptid_MN.csv',sep=\";\")\n",
    "df_34=pd.read_csv('34indiv_recipe_statin-C10AorB-20220404orig_query.csv',sep=\";\")"
   ]
  },
  {
   "cell_type": "code",
   "execution_count": null,
   "metadata": {},
   "outputs": [],
   "source": [
    "df_34.head()"
   ]
  },
  {
   "cell_type": "code",
   "execution_count": null,
   "metadata": {},
   "outputs": [],
   "source": [
    "strings = ['10', '00']\n",
    "df2=df[df['HIFPrescription status code'].isin(strings)]\n",
    "df_34=df_34[df_34['HIFPrescription status code'].isin(strings)]"
   ]
  },
  {
   "cell_type": "code",
   "execution_count": null,
   "metadata": {},
   "outputs": [],
   "source": [
    "df3=df2[['HIFPrescription packageContents', 'HIFPrescription purchasedDate',\n",
    "       'HIFPrescription purchasedPackageAtc name', 'HIFPrescription purchasedDosage','Person skood','Person birthYear', \n",
    "       'Person deathYear','Person gender code','HIFPrescription status code']]\n",
    "\n",
    "df_34=df_34[['HIFPrescription packageContents', 'HIFPrescription purchasedDate',\n",
    "       'HIFPrescription purchasedPackageAtc name', 'HIFPrescription purchasedDosage','Person skood','Person birthYear', \n",
    "       'Person deathYear','Person gender code','HIFPrescription status code']]"
   ]
  },
  {
   "cell_type": "code",
   "execution_count": null,
   "metadata": {},
   "outputs": [],
   "source": [
    "df4=df3.copy()\n",
    "df4[['Dosage', 'Number_pills']] = df['HIFPrescription packageContents'].str.split(' ', 1,expand=True)\n",
    "#df4.drop('HIFPrescription packageContents')\n",
    "df4\n",
    "\n",
    "df_34[['Dosage', 'Number_pills']] = df_34['HIFPrescription packageContents'].str.split(' ', 1,expand=True)\n",
    "#df_34.drop('HIFPrescription packageContents')\n",
    "df_34"
   ]
  },
  {
   "cell_type": "code",
   "execution_count": null,
   "metadata": {},
   "outputs": [],
   "source": [
    "df5=df4.copy()\n",
    "df5=df5[df5['HIFPrescription status code']=='10']\n",
    "#df5\n",
    "\n",
    "df_34=df_34[df_34['HIFPrescription status code']=='10']\n",
    "df_34"
   ]
  },
  {
   "cell_type": "code",
   "execution_count": null,
   "metadata": {},
   "outputs": [],
   "source": [
    "df5['HIFPrescription purchasedDate']=pd.to_datetime(df5['HIFPrescription purchasedDate'])\n",
    "df5=df5[df5['HIFPrescription purchasedDate']>'2004-12-21']\n",
    "df5\n",
    "\n",
    "df_34['HIFPrescription purchasedDate']=pd.to_datetime(df_34['HIFPrescription purchasedDate'])\n",
    "df_34=df_34[df_34['HIFPrescription purchasedDate']>'2004-12-21']\n",
    "df_34"
   ]
  },
  {
   "cell_type": "code",
   "execution_count": null,
   "metadata": {},
   "outputs": [],
   "source": [
    "#skood_list=df5['Person skood'].unique()\n",
    "#len(skood_list)\n",
    "\n",
    "skood_list_34=df_34['Person skood'].unique()\n",
    "len(skood_list_34)"
   ]
  },
  {
   "cell_type": "code",
   "execution_count": null,
   "metadata": {},
   "outputs": [],
   "source": [
    "df_34.to_excel('kontroll_34_statinfo.xlsx')"
   ]
  },
  {
   "cell_type": "code",
   "execution_count": null,
   "metadata": {},
   "outputs": [],
   "source": [
    "df5.to_excel('kontroll_155_statinfo.xlsx')"
   ]
  },
  {
   "cell_type": "code",
   "execution_count": null,
   "metadata": {},
   "outputs": [],
   "source": [
    "df6=pd.read_csv('kontroll_155_statinfo.csv',sep=\";\")\n",
    "df6\n",
    "\n",
    "kolmnelidf=pd.read_csv('20220409_kontroll_34_statinfo.csv',sep=\";\")\n",
    "kolmnelidf"
   ]
  },
  {
   "cell_type": "code",
   "execution_count": null,
   "metadata": {},
   "outputs": [],
   "source": [
    "df6['HIFPrescription purchasedDate']=pd.to_datetime(df6['HIFPrescription purchasedDate'],format=\"%Y-%m-%d\")\n",
    "\n",
    "kolmnelidf['HIFPrescription purchasedDate']=pd.to_datetime(kolmnelidf['HIFPrescription purchasedDate'],format=\"%Y-%m-%d\")"
   ]
  },
  {
   "cell_type": "code",
   "execution_count": null,
   "metadata": {},
   "outputs": [],
   "source": [
    "df6['Person deathYear']=pd.to_datetime(df6['Person deathYear'],format=\"%Y-%m-%d\")\n",
    "df6[1500:]\n",
    "\n",
    "kolmnelidf['Person deathYear']=pd.to_datetime(kolmnelidf['Person deathYear'],format=\"%Y-%m-%d\")\n",
    "kolmnelidf"
   ]
  },
  {
   "cell_type": "code",
   "execution_count": null,
   "metadata": {},
   "outputs": [],
   "source": [
    "new=df6[df6['HIFPrescription purchasedDate']>'2004-12-31']\n",
    "new\n",
    "\n",
    "new2=kolmnelidf[kolmnelidf['HIFPrescription purchasedDate']>'2004-12-31']\n",
    "new2"
   ]
  },
  {
   "cell_type": "code",
   "execution_count": null,
   "metadata": {},
   "outputs": [],
   "source": [
    "new['HIFPrescription purchasedPackageAtc name'].isnull().sum()"
   ]
  },
  {
   "cell_type": "code",
   "execution_count": null,
   "metadata": {},
   "outputs": [],
   "source": [
    "new[(new['Person skood']=='EGVD004589') & (new['Person deathYear'].notnull()==0)]"
   ]
  },
  {
   "cell_type": "code",
   "execution_count": null,
   "metadata": {},
   "outputs": [],
   "source": [
    "new['HIFPrescription purchasedDate'].min()"
   ]
  },
  {
   "cell_type": "code",
   "execution_count": null,
   "metadata": {},
   "outputs": [],
   "source": [
    "(new[new['Person skood']=='EGVD031311']['Person deathYear'][1500]-pd.to_datetime('2014-12-21')).days"
   ]
  },
  {
   "cell_type": "code",
   "execution_count": null,
   "metadata": {},
   "outputs": [],
   "source": [
    "skood_list=new['Person skood'].unique()\n",
    "len(skood_list)\n",
    "\n",
    "skood_list_34=new2['Person skood'].unique()\n",
    "len(skood_list_34)"
   ]
  },
  {
   "cell_type": "code",
   "execution_count": null,
   "metadata": {},
   "outputs": [],
   "source": [
    "new[['Dosage_y', 'drop']] = new['Dosage'].str.split('+', 1,expand=True)\n",
    "new=new.drop(columns=['drop','Dosage'],axis=1)\n",
    "new\n",
    "\n",
    "new2[['Dosage_y', 'drop']] = new2['Dosage'].str.split('+', 1,expand=True)\n",
    "new2=new2.drop(columns=['drop','Dosage'],axis=1)\n",
    "new2"
   ]
  },
  {
   "cell_type": "code",
   "execution_count": null,
   "metadata": {},
   "outputs": [],
   "source": [
    "new=new[new['HIFPrescription purchasedPackageAtc name'] != 'oomega-3-rasvhappe etüülestrid 90']\n",
    "\n",
    "new2=new2[new2['HIFPrescription purchasedPackageAtc name'] != 'oomega-3-rasvhappe etüülestrid 90']"
   ]
  },
  {
   "cell_type": "code",
   "execution_count": null,
   "metadata": {},
   "outputs": [],
   "source": [
    "diag=pd.read_csv('291indiv_genePLUS_DGN-20220404orig_query.csv',sep=\";\")\n",
    "diag\n",
    "\n",
    "diag2=pd.read_csv('34indiv_genePLUS_DGN-20220404orig_query.csv',sep=\";\")\n",
    "diag2"
   ]
  },
  {
   "cell_type": "code",
   "execution_count": null,
   "metadata": {},
   "outputs": [],
   "source": [
    "diag['DiagnosisConsolidated icd10 code'].unique()\n",
    "\n",
    "diag2['DiagnosisConsolidated icd10 code'].unique()"
   ]
  },
  {
   "cell_type": "code",
   "execution_count": null,
   "metadata": {},
   "outputs": [],
   "source": [
    "row_n=diag[diag['DiagnosisConsolidated icd10 code'].str.contains(\"E78\")]\n",
    "\n",
    "row_n\n",
    "        \n",
    "row_n2=diag2[diag2['DiagnosisConsolidated icd10 code'].str.contains(\"E78\")]\n",
    "\n",
    "row_n2\n",
    "        \n",
    "    "
   ]
  },
  {
   "cell_type": "code",
   "execution_count": null,
   "metadata": {},
   "outputs": [],
   "source": [
    "row_n['DiagnosisConsolidated icd10 code'].unique()"
   ]
  },
  {
   "cell_type": "code",
   "execution_count": null,
   "metadata": {},
   "outputs": [],
   "source": [
    "row_n['DiagnosisConsolidated earliestDate']=pd.to_datetime(row_n['DiagnosisConsolidated earliestDate'],format=\"%Y-%m-%d\")\n",
    "\n",
    "row_n2['DiagnosisConsolidated earliestDate']=pd.to_datetime(row_n2['DiagnosisConsolidated earliestDate'],format=\"%Y-%m-%d\")"
   ]
  },
  {
   "cell_type": "code",
   "execution_count": null,
   "metadata": {},
   "outputs": [],
   "source": [
    "skood_diag=row_n['Person skood'].unique()\n",
    "skood_diag_34=row_n2['Person skood'].unique()"
   ]
  },
  {
   "cell_type": "code",
   "execution_count": null,
   "metadata": {},
   "outputs": [],
   "source": [
    "#155 isikule\n",
    "surm_kontroll=pd.DataFrame(columns = ['Skood','Birth year','Death year','Dead'] )\n",
    "surm_kontroll['Skood']=skood_list\n",
    "\n",
    "\n",
    "\n",
    "statinfo=pd.DataFrame(columns=['Person skood','Birth year','Death year','ICD10','E78 diagnosis' ,\n",
    "                               'Diag earliest date','Average dose',\n",
    "                                'Number_days','Number_pills', 'Ratio covered' ])\n",
    "\n",
    "for i in range(len(skood_list)):\n",
    "    dosage=[]\n",
    "    pills=0\n",
    "    o=new[new['Person skood']==skood_list[i]].reset_index(drop=True)\n",
    "    \n",
    "    if skood_list[i] in skood_diag:\n",
    "        g=row_n[row_n['Person skood']==skood_list[i]].reset_index(drop=True)\n",
    "        statinfo=statinfo.append({'Skood':skood_list[i],'Birth year':o['Person birthYear'][0],\n",
    "                                  'Death year':o['Person deathYear'][0],'ICD10':g['DiagnosisConsolidated icd10 code'][0],\n",
    "                                  'E78 diagnosis':g['DiagnosisConsolidated icd10 name'][0],\n",
    "                                 'Diag earliest date':g['DiagnosisConsolidated earliestDate'][0]},\n",
    "                                 ignore_index=True)\n",
    "    else:\n",
    "        statinfo=statinfo.append({'Skood':skood_list[i],'Birth year':o['Person birthYear'][0],\n",
    "                                  'Death year':o['Person deathYear'][0]},\n",
    "                                 ignore_index=True)\n",
    "        \n",
    "    \n",
    "    \n",
    "    surm_kontroll['Skood'][i]=skood_list[i]\n",
    "    surm_kontroll['Birth year'][i]=o['Person birthYear'][0]\n",
    "    surm_kontroll['Death year'][i]=o['Person deathYear'][0]\n",
    "\n",
    "    \n",
    "    \n",
    "    if o['Person deathYear'].notnull().values.any()==True:\n",
    "        end_date=o['Person deathYear'][0]\n",
    "        surm_kontroll['Dead'][i]='yes'\n",
    "    else:\n",
    "        end_date=new['HIFPrescription purchasedDate'].max()\n",
    "        surm_kontroll['Dead'][i]='no'\n",
    "    \n",
    "    statinfo['Diag earliest date']=pd.to_datetime(statinfo['Diag earliest date'],format=\"%Y-%m-%d\")\n",
    "    if statinfo['Diag earliest date'][i] < pd.to_datetime('2004-12-31') or pd.isnull(statinfo['Diag earliest date'][i]):\n",
    "        start= pd.to_datetime('2004-12-31')\n",
    "        days=(end_date-start).days\n",
    "    else:\n",
    "        start= statinfo['Diag earliest date'][i]\n",
    "        days=(end_date-start).days\n",
    "    \n",
    "    statinfo['Number_days'][i]=days\n",
    "    \n",
    "    if len(o)==1:\n",
    "        nr=2\n",
    "    else:\n",
    "        nr=len(o)\n",
    "    \n",
    "    for l in range(nr-1):\n",
    "        if o['HIFPrescription purchasedPackageAtc name'][l] in ['fenofibraat','esetimiib'] and l!=0:\n",
    "        #print('jah')\n",
    "            if o['HIFPrescription purchasedPackageAtc name'][l-1] not in ['fenofibraat','esetimiib']:\n",
    "          #  print('jah 00')\n",
    "                if (o['HIFPrescription purchasedDate'][l]-o['HIFPrescription purchasedDate'][l-1]).days > 60:\n",
    "              #  print('jah 0j')\n",
    "                    if (o['HIFPrescription purchasedDate'][l+1]-o['HIFPrescription purchasedDate'][l]).days > o['Number_pills'][l]*o['HIFPrescription purchasedDosage'][l] and  o['HIFPrescription purchasedPackageAtc name'][l+1] not in ['fenofibraat','esetimiib']:\n",
    "                   # print(\"jah 0x\")\n",
    "                        pills=pills+o['Number_pills'][l]*o['HIFPrescription purchasedDosage'][l]\n",
    "                   # print(o['Number_pills'][l])\n",
    "                    elif o['HIFPrescription purchasedPackageAtc name'][l+1] in ['fenofibraat','esetimiib']:\n",
    "                        pills=pills+o['Number_pills'][l]*o['HIFPrescription purchasedDosage'][l]\n",
    "                   # print(o['Number_pills'][l])\n",
    "                   # print('siiax1')\n",
    "\n",
    "        else:\n",
    "       # print('siiax2')\n",
    "            dosage.append(int(o['Dosage_y'][l]))\n",
    "            pills=pills+o['Number_pills'][l]*o['HIFPrescription purchasedDosage'][l]\n",
    "           # print(dosage)\n",
    "            \n",
    "    avg_dose=mean(dosage)\n",
    "\n",
    "    statinfo['Average dose'][i]=avg_dose\n",
    "    statinfo['Number_pills'][i]=pills\n",
    "    statinfo['Ratio covered'][i]=statinfo['Number_pills'][i]/statinfo['Number_days'][i]\n",
    "    \n",
    "\n"
   ]
  },
  {
   "cell_type": "code",
   "execution_count": null,
   "metadata": {},
   "outputs": [],
   "source": [
    "#34 isikule\n",
    "surm_kontroll=pd.DataFrame(columns = ['Skood','Birth year','Death year','Dead'] )\n",
    "surm_kontroll['Skood']=skood_list_34\n",
    "\n",
    "\n",
    "\n",
    "statinfo2=pd.DataFrame(columns=['Person skood','Birth year','Death year','ICD10','E78 diagnosis' ,\n",
    "                               'Diag earliest date','Average dose',\n",
    "                                'Number_days','Number_pills', 'Ratio covered' ])\n",
    "\n",
    "for i in range(len(skood_list_34)):\n",
    "    dosage=[]\n",
    "    pills=0\n",
    "    o=new2[new2['Person skood']==skood_list_34[i]].reset_index(drop=True)\n",
    "    \n",
    "    if skood_list_34[i] in skood_diag_34:\n",
    "        g=row_n2[row_n2['Person skood']==skood_list_34[i]].reset_index(drop=True)\n",
    "        statinfo2=statinfo2.append({'Skood':skood_list_34[i],'Birth year':o['Person birthYear'][0],\n",
    "                                  'Death year':o['Person deathYear'][0],'ICD10':g['DiagnosisConsolidated icd10 code'][0],\n",
    "                                  'E78 diagnosis':g['DiagnosisConsolidated icd10 name'][0],\n",
    "                                 'Diag earliest date':g['DiagnosisConsolidated earliestDate'][0]},\n",
    "                                 ignore_index=True)\n",
    "    else:\n",
    "        statinfo2=statinfo2.append({'Skood':skood_list_34[i],'Birth year':o['Person birthYear'][0],\n",
    "                                  'Death year':o['Person deathYear'][0]},\n",
    "                                 ignore_index=True)\n",
    "        \n",
    "    \n",
    "    \n",
    "    surm_kontroll['Skood'][i]=skood_list_34[i]\n",
    "    surm_kontroll['Birth year'][i]=o['Person birthYear'][0]\n",
    "    surm_kontroll['Death year'][i]=o['Person deathYear'][0]\n",
    "\n",
    "    \n",
    "    \n",
    "    if o['Person deathYear'].notnull().values.any()==True:\n",
    "        end_date=o['Person deathYear'][0]\n",
    "        surm_kontroll['Dead'][i]='yes'\n",
    "    else:\n",
    "        end_date=new2['HIFPrescription purchasedDate'].max()\n",
    "        surm_kontroll['Dead'][i]='no'\n",
    "    \n",
    "    statinfo2['Diag earliest date']=pd.to_datetime(statinfo2['Diag earliest date'],format=\"%Y-%m-%d\")\n",
    "    if statinfo2['Diag earliest date'][i] < pd.to_datetime('2004-12-31') or pd.isnull(statinfo2['Diag earliest date'][i]):\n",
    "        start= pd.to_datetime('2004-12-31')\n",
    "        days=(end_date-start).days\n",
    "    else:\n",
    "        start= statinfo2['Diag earliest date'][i]\n",
    "        days=(end_date-start).days\n",
    "    \n",
    "    statinfo2['Number_days'][i]=days\n",
    "    \n",
    "    if len(o)==1:\n",
    "        nr=2\n",
    "    else:\n",
    "        nr=len(o)\n",
    "    \n",
    "    for l in range(nr-1):\n",
    "        if o['HIFPrescription purchasedPackageAtc name'][l] in ['fenofibraat','esetimiib'] and l!=0:\n",
    "        #print('jah')\n",
    "            if o['HIFPrescription purchasedPackageAtc name'][l-1] not in ['fenofibraat','esetimiib']:\n",
    "          #  print('jah 00')\n",
    "                if (o['HIFPrescription purchasedDate'][l]-o['HIFPrescription purchasedDate'][l-1]).days > 60:\n",
    "              #  print('jah 0j')\n",
    "                    if (o['HIFPrescription purchasedDate'][l+1]-o['HIFPrescription purchasedDate'][l]).days > o['Number_pills'][l]*o['HIFPrescription purchasedDosage'][l] and  o['HIFPrescription purchasedPackageAtc name'][l+1] not in ['fenofibraat','esetimiib']:\n",
    "                   # print(\"jah 0x\")\n",
    "                        pills=pills+o['Number_pills'][l]*o['HIFPrescription purchasedDosage'][l]\n",
    "                   # print(o['Number_pills'][l])\n",
    "                    elif o['HIFPrescription purchasedPackageAtc name'][l+1] in ['fenofibraat','esetimiib']:\n",
    "                        pills=pills+o['Number_pills'][l]*o['HIFPrescription purchasedDosage'][l]\n",
    "                   # print(o['Number_pills'][l])\n",
    "                   # print('siiax1')\n",
    "\n",
    "        else:\n",
    "       # print('siiax2')\n",
    "            dosage.append(int(o['Dosage_y'][l]))\n",
    "            pills=pills+o['Number_pills'][l]*o['HIFPrescription purchasedDosage'][l]\n",
    "           # print(dosage)\n",
    "            \n",
    "    avg_dose=mean(dosage)\n",
    "\n",
    "    statinfo2['Average dose'][i]=avg_dose\n",
    "    statinfo2['Number_pills'][i]=pills\n",
    "    statinfo2['Ratio covered'][i]=statinfo2['Number_pills'][i]/statinfo2['Number_days'][i]\n",
    "    \n",
    "\n"
   ]
  },
  {
   "cell_type": "code",
   "execution_count": null,
   "metadata": {},
   "outputs": [],
   "source": [
    "statinfo.loc[9,:]"
   ]
  },
  {
   "cell_type": "code",
   "execution_count": null,
   "metadata": {},
   "outputs": [],
   "source": [
    "statinfo.to_excel('20220409_statinfo_155_.xlsx')"
   ]
  },
  {
   "cell_type": "code",
   "execution_count": null,
   "metadata": {},
   "outputs": [],
   "source": [
    "statinfo2.to_excel('20220409_statinfo_alates2016_34_.xlsx')"
   ]
  },
  {
   "cell_type": "code",
   "execution_count": null,
   "metadata": {},
   "outputs": [],
   "source": [
    "    for l in len(o):\n",
    "        if o['HIFPrescription purchasedPackageAtc name'][l] in ['fenofibraat','esetimiib']:\n",
    "            if o['HIFPrescription purchasedPackageAtc name'][l-1] not in ['fenofibraat','esetimiib']:\n",
    "                if (o['HIFPrescription purchasedDate'][l]-o['HIFPrescription purchasedDate'][l-1]).days > 60:\n",
    "                    pills=pills+o['Number_pills'][l]\n",
    "        else:\n",
    "            dosage=dosage.append(o['Dosage_y'][l])"
   ]
  }
 ],
 "metadata": {
  "kernelspec": {
   "display_name": "Python 3",
   "language": "python",
   "name": "python3"
  },
  "language_info": {
   "codemirror_mode": {
    "name": "ipython",
    "version": 3
   },
   "file_extension": ".py",
   "mimetype": "text/x-python",
   "name": "python",
   "nbconvert_exporter": "python",
   "pygments_lexer": "ipython3",
   "version": "3.8.5"
  }
 },
 "nbformat": 4,
 "nbformat_minor": 4
}
