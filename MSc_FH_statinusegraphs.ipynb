{
 "cells": [
  {
   "cell_type": "code",
   "execution_count": null,
   "metadata": {},
   "outputs": [],
   "source": [
    "import pandas as pd\n",
    "import seaborn as sns\n",
    "import numpy as np\n",
    "%matplotlib inline\n",
    "import matplotlib.pyplot as plt\n",
    "import matplotlib.dates as mdates\n",
    "from matplotlib.lines import Line2D  # for legend handle\n",
    "df=pd.read_csv('20220420_FH_34isikut_statretseptid_graafikuteks.csv',sep=\";\")\n",
    "stat=pd.read_csv('kõikstatiinid_34.csv',sep=\";\")\n",
    "df2=pd.read_csv('20220420_FH_34isikut_statretseptid_graafikuteks_feno_ese.csv',sep=\";\")"
   ]
  },
  {
   "cell_type": "code",
   "execution_count": null,
   "metadata": {},
   "outputs": [],
   "source": [
    "df = df.rename(columns = {'Drug   ':\"Drug\"})"
   ]
  },
  {
   "cell_type": "code",
   "execution_count": null,
   "metadata": {},
   "outputs": [],
   "source": [
    "color_labels = stat['HIFPrescription purchasedAtc name'].unique()\n",
    "color_labels"
   ]
  },
  {
   "cell_type": "code",
   "execution_count": null,
   "metadata": {},
   "outputs": [],
   "source": [
    "rgb_values = sns.color_palette(\"Set1\", 8)\n",
    "color_map = dict(zip(color_labels, rgb_values))"
   ]
  },
  {
   "cell_type": "code",
   "execution_count": null,
   "metadata": {},
   "outputs": [],
   "source": [
    "color_map"
   ]
  },
  {
   "cell_type": "code",
   "execution_count": null,
   "metadata": {},
   "outputs": [],
   "source": [
    "nk=list(df['FH_code'].unique())\n",
    "nk"
   ]
  },
  {
   "cell_type": "code",
   "execution_count": null,
   "metadata": {},
   "outputs": [],
   "source": [
    "len(nk)"
   ]
  },
  {
   "cell_type": "code",
   "execution_count": null,
   "metadata": {},
   "outputs": [],
   "source": [
    "vv=pd.read_csv('20220405_vv_kuupäevad_FH_MN.csv',sep=\";\")"
   ]
  },
  {
   "cell_type": "code",
   "execution_count": null,
   "metadata": {},
   "outputs": [],
   "source": [
    "vv"
   ]
  },
  {
   "cell_type": "code",
   "execution_count": null,
   "metadata": {},
   "outputs": [],
   "source": [
    "from matplotlib import lines\n",
    "\n",
    "for h in range(len(nk)):\n",
    "    o=df[df['FH_code']==nk[h]].reset_index()\n",
    "    dates = list(o['End_date']) \n",
    "    dates = [pd.to_datetime(d) for d in dates]\n",
    "    \n",
    "\n",
    "    vv2_date=pd.to_datetime(vv['Tagasisidevisiidi kuupäev'][h]) \n",
    "    \n",
    "    points_size = []\n",
    "    for i in range(len(o)):\n",
    "        if o['Drug'][i]> 80:\n",
    "            points_size.append(o['Drug'][i]/2)\n",
    "        elif o['Drug'][i]>= 40 and o['Drug'][i]<=80:\n",
    "            points_size.append(o['Drug'][i]*3)\n",
    "        else:\n",
    "            points_size.append(5*o['Drug'][i])\n",
    "    \n",
    "    fig, ax = plt.subplots(figsize=(15,6))\n",
    "    #ax = plt.axes()\n",
    "    ax.xaxis.set_major_locator(mdates.YearLocator())\n",
    "    ax.set_facecolor(\"whitesmoke\")\n",
    "    \n",
    "    #plt.figure(figsize=(10,6))\n",
    "    scatter=plt.scatter(dates, o['Drug'],  s=points_size, c=o['Drug_name'].map(color_map))\n",
    "    plt.title(\"Participant #\" +str(nk[h]), fontsize=20)\n",
    "    plt.xlabel('Time', fontsize=18)\n",
    "    plt.ylabel('Dosage (mg)', fontsize=18)\n",
    "    handles = [Line2D([0], [0], marker='o', color='w', markerfacecolor=v, label=k, markersize=8) for k, v in color_map.items()]\n",
    "    #plt.legend(title='Drug name', handles=handles, bbox_to_anchor=(1.05, 1), loc='upper left', fontsize=15, title_fontsize=15, facecolor=\"whitesmoke\")\n",
    "    #vertical_line = lines.Line2D([], [], color=\"gray\", marker='|', linestyle='None', \n",
    "                                 #markersize=10, markeredgewidth=1.5, label='Vertical line')\n",
    "    #plt.legend(handles=[vertical_line], loc='upper right') \n",
    "    plt.axvline(x=vv2_date, color=\"gray\")\n",
    "    plt.xticks(fontsize=15)\n",
    "    plt.yticks(fontsize=12)\n",
    "\n",
    "    if max(o['Drug'])> 80:\n",
    "        plt.ylim(0, 210)\n",
    "    else:\n",
    "        plt.ylim(0, 90)\n",
    "\n",
    "    plt.show()\n"
   ]
  },
  {
   "cell_type": "code",
   "execution_count": null,
   "metadata": {},
   "outputs": [],
   "source": [
    "#forced on same scale (up to 2023)\n",
    "import datetime\n",
    "for h in range(len(nk)):\n",
    "    o=df[df['FH_code']==nk[h]].reset_index()\n",
    "    dates = list(o['End_date']) \n",
    "    dates = [pd.to_datetime(d) for d in dates]\n",
    "    \n",
    "    points_size = []\n",
    "    for i in range(len(o)):\n",
    "        if o['Drug'][i]> 80:\n",
    "            points_size.append(o['Drug'][i]/2)\n",
    "        elif o['Drug'][i]>= 40 and o['Drug'][i]<=80:\n",
    "            points_size.append(o['Drug'][i]*3)\n",
    "        else:\n",
    "            points_size.append(5*o['Drug'][i])\n",
    "    \n",
    "    fig, ax = plt.subplots(figsize=(20,6))\n",
    "    ax.xaxis.set_major_locator(mdates.YearLocator())\n",
    "    ax.set_xlim([datetime.date(2004, 1, 1), datetime.date(2023, 12, 21)])\n",
    "    \n",
    "    #plt.figure(figsize=(10,6))\n",
    "    scatter=plt.scatter(dates, o['Drug'],  s=points_size, c=o['Drug_name'].map(color_map))\n",
    "    plt.title(\"Patient #\" +str(nk[h]), fontsize=20)\n",
    "    plt.xlabel('Purchase dates', fontsize=18)\n",
    "    plt.ylabel('Dosage (mg)', fontsize=18)\n",
    "    handles = [Line2D([0], [0], marker='o', color='w', markerfacecolor=v, label=k, markersize=8) for k, v in color_map.items()]\n",
    "    plt.legend(title='Drug name', handles=handles, bbox_to_anchor=(1.05, 1), loc='upper left')\n",
    "    plt.xticks(fontsize=15)\n",
    "    plt.yticks(fontsize=15)\n",
    "    \n",
    "\n",
    "    if max(o['Drug'])> 80:\n",
    "        plt.ylim(0, 210)\n",
    "    else:\n",
    "        plt.ylim(0, 90)\n",
    "\n",
    "   \n",
    "\n",
    "    plt.show()\n"
   ]
  },
  {
   "cell_type": "code",
   "execution_count": null,
   "metadata": {},
   "outputs": [],
   "source": [
    "gantt=pd.DataFrame(columns = ['Task','Start','Finish','Drug name'] )\n",
    "\n",
    "for h in range(len(nk)):\n",
    "    o=df2[df2['FH_code']==nk[h]].reset_index()\n",
    "    dates = list(o['Date']) \n",
    "    dates = [pd.to_datetime(d) for d in dates]\n",
    "    \n",
    "    end = list(o['End_date']) \n",
    "    end = [pd.to_datetime(d) for d in end]\n",
    "    \n",
    "    for i in range(len(o)):\n",
    "                   gantt=gantt.append({'Task':o['FH_code'][i],'Start':dates[i],'Finish':end[i],'Drug name':o['Drug_name'][i]},ignore_index=True)"
   ]
  },
  {
   "cell_type": "code",
   "execution_count": null,
   "metadata": {},
   "outputs": [],
   "source": [
    "gantt"
   ]
  },
  {
   "cell_type": "code",
   "execution_count": null,
   "metadata": {},
   "outputs": [],
   "source": [
    "uf=list(gantt['Drug name'].unique())\n",
    "uf"
   ]
  },
  {
   "cell_type": "code",
   "execution_count": null,
   "metadata": {},
   "outputs": [],
   "source": [
    "#color_labels=list(color_labels)\n",
    "color_labels=list(map(lambda x: x.replace(\"ezetimibe\", \"rosuvastatin+ezetimibe\"),color_labels))\n",
    "color_labels.append(\"rosuvastatin+fenofibrate\")\n",
    "color_labels"
   ]
  },
  {
   "cell_type": "code",
   "execution_count": null,
   "metadata": {},
   "outputs": [],
   "source": [
    "colors = {'atorvastatiin': 'rgb(220, 0, 0)',\n",
    "          'simvastatiin': 'rgb(30, 200, 67)',\n",
    "          'rosuvastatiin': 'rgb(50, 100, 100)',\n",
    "          'fenofibraat': 'rgb(255, 89, 143)',\n",
    "          'pravastatiin': 'rgb(243, 135, 47)',\n",
    "          'fluvastatiin': 'rgb(21, 178, 211)',\n",
    "          'esetimiib': 'rgb(243, 135, 47)',\n",
    "          'atorvastatiin+amlodipiin': 'rgb(255, 215, 0)'\n",
    "         }"
   ]
  },
  {
   "cell_type": "code",
   "execution_count": null,
   "metadata": {},
   "outputs": [],
   "source": [
    "rgb_values2 = sns.color_palette(\"Set1\", 9)\n",
    "color_map2 = dict(zip(color_labels, rgb_values2))"
   ]
  },
  {
   "cell_type": "code",
   "execution_count": null,
   "metadata": {},
   "outputs": [],
   "source": [
    "import plotly.figure_factory as ff\n",
    "\n",
    "colors = {'atorvastatiin': 'rgb(220, 0, 0)',\n",
    "          'simvastatiin': 'rgb(30, 200, 67)',\n",
    "          'rosuvastatiin': 'rgb(50, 100, 100)',\n",
    "          'fenofibraat': 'rgb(255, 89, 143)',\n",
    "          'pravastatiin': 'rgb(243, 135, 47)',\n",
    "          'fluvastatiin': 'rgb(21, 178, 211)',\n",
    "          'esetimiib': 'rgb(243, 135, 47)',\n",
    "          'atorvastatiin+amlodipiin': 'rgb(255, 215, 0)'\n",
    "         }\n",
    "\n",
    "fig = ff.create_gantt(gantt, title=\"Statin use Gantt chart\", showgrid_x=True, colors=color_map2, index_col='Drug name', show_colorbar=True,\n",
    "                      group_tasks=True, bar_width=0.3)\n",
    "fig.show()"
   ]
  },
  {
   "cell_type": "code",
   "execution_count": null,
   "metadata": {},
   "outputs": [],
   "source": [
    "from pandas.api.types import CategoricalDtype"
   ]
  },
  {
   "cell_type": "code",
   "execution_count": null,
   "metadata": {},
   "outputs": [],
   "source": [
    "cat_size_order = CategoricalDtype(\n",
    "    [\"7450029\",\"7450018\", \"7450010\",\"7450001\", \"7450022\",\"7450031\",\"7450023\",\"7450017\",\"7450124\",  \"7450028\",\"7450024\",\n",
    "                                          \"7450006\",\n",
    "                                          \"7450009\",\"7450011\", \"7450021\", \"7450005\", \"7450026\",\"7450007\",\"7450104\",  \"7450015\",\n",
    "                                         \"7450014\",\"7450002\", \"7450019\",\"7450003\", \"7450016\",\"7450025\",\"7450004\"\n",
    "                                          ], \n",
    "    ordered=True\n",
    ")"
   ]
  },
  {
   "cell_type": "code",
   "execution_count": null,
   "metadata": {},
   "outputs": [],
   "source": [
    "gantt['Task']=gantt['Task'].astype(str)\n",
    "gantt_f=gantt.copy()\n",
    "gantt_f['Task']=gantt_f['Task'].astype(cat_size_order)\n",
    "\n",
    "#gantt_f['Task'] =pd.Categorical(gantt_f['Task'], [\"7450001\", \"7450010\", \"7450022\",\"7450017\",\"7450018\",\"7450124\",\"7450029\",\n",
    "                                        #\"7450002\",\"7450003\",\"7450004\", \"7450005\", \"7450006\", \"7450007\", \"7450009\",\n",
    "                                       # \"7450011\", \"7450014\", \"7450015\",\"7450016\", \"7450019\", \"7450021\", \"7450023\",\n",
    "                                       #\"7450024\", \"7450026\", \"7450028\", \"7450031\", \"7450104\"])\n",
    "\n",
    "gantt_f.sort_values(['Task'], inplace=True)\n",
    "\n",
    "gantt_f=gantt_f.replace(\"7450004\",\"*7450004\")\n",
    "#gantt_f.sort_values(by=['Task'], key=lambda x: x.map(custom_dict), inplace=True)\n",
    "            #gantt_f.sort_values('Task', inplace=True)"
   ]
  },
  {
   "cell_type": "code",
   "execution_count": null,
   "metadata": {},
   "outputs": [],
   "source": [
    "figa = ff.create_gantt(gantt_f, title=\"Statin use Gantt chart\", showgrid_x=True, colors=color_map2, index_col='Drug name', show_colorbar=True,\n",
    "                      group_tasks=True, bar_width=0.3)\n",
    "figa.show()"
   ]
  },
  {
   "cell_type": "code",
   "execution_count": null,
   "metadata": {},
   "outputs": [],
   "source": [
    "import os\n",
    "\n",
    "if not os.path.exists(\"images\"):\n",
    "    os.mkdir(\"images\")"
   ]
  },
  {
   "cell_type": "code",
   "execution_count": null,
   "metadata": {},
   "outputs": [],
   "source": [
    "import plotly.graph_objects as go\n",
    "figa = ff.create_gantt(gantt_f, title=\"Gantt Chart of Lipid Lowering Medication Use\", showgrid_x=True, colors=color_map2, index_col='Drug name', show_colorbar=True,\n",
    "                      group_tasks=True, bar_width=0.3)\n",
    "\n",
    "figa.add_trace(\n",
    "    go.Scatter(\n",
    "        x = ['2016-07-05', '2016-07-05'],\n",
    "        y = [-1, len(gantt_f.index) + 1],\n",
    "        mode = \"lines\",\n",
    "        line = go.scatter.Line(color = \"black\", width = 2),\n",
    "        showlegend = False\n",
    "    )\n",
    ")\n",
    "\n",
    "figa.add_trace(\n",
    "    go.Scatter(\n",
    "        x = ['2018-01-23', '2018-01-23'],\n",
    "        y = [-1, len(gantt_f.index) + 1],\n",
    "        mode = \"lines\",\n",
    "        line = go.scatter.Line(color = \"black\", width = 2),\n",
    "        showlegend = False\n",
    "    )\n",
    ")\n",
    "\n",
    "figa.add_trace(\n",
    "    go.Scatter(\n",
    "        x = ['2022-03-01', '2022-03-01'],\n",
    "        y = [-1, len(gantt_f.index) + 1],\n",
    "        mode = \"lines\",\n",
    "        line = go.scatter.Line(color = \"black\", width = 2,dash=\"dash\"),\n",
    "        showlegend = False\n",
    "    )\n",
    ")\n",
    "\n",
    "figa.update_layout(legend = dict(font = dict(family = \"Calibri Light\", size = 18, color = \"black\")),\n",
    "                  legend_title = dict(font = dict(family = \"Calibri\", size = 18, color = \"black\")))\n",
    "\n",
    "figa.update_layout(\n",
    "    xaxis_title=\"Time\",\n",
    "    yaxis_title=\"Participants\",\n",
    "    legend_title=\"Drug name\",\n",
    "    font=dict(\n",
    "        family=\"Calibri, monospace\",\n",
    "        size=16,\n",
    "        color=\"Black\"\n",
    "    )\n",
    ")\n",
    "\n",
    "#figa.write_image(\"images/fig1.svg\")\n",
    "#figa.write_image(\"images/fig1.jpeg\")\n",
    "figa.show()"
   ]
  },
  {
   "cell_type": "code",
   "execution_count": null,
   "metadata": {},
   "outputs": [],
   "source": [
    "risk=pd.read_csv('FH_kood_stathinnang.csv',sep=\";\")\n",
    "risk"
   ]
  },
  {
   "cell_type": "code",
   "execution_count": null,
   "metadata": {},
   "outputs": [],
   "source": [
    "risk_gantt=pd.DataFrame(columns = ['Task','Start','Finish','Drug name'] )\n",
    "\n",
    "for h in range(len(nk)):\n",
    "    o=df[df['FH_code']==nk[h]].reset_index()\n",
    "    r=risk[risk['FH kood']==nk[h]].reset_index()\n",
    "    dates = list(o['Date']) \n",
    "    dates = [pd.to_datetime(d) for d in dates]\n",
    "    \n",
    "    end = list(o['End_date']) \n",
    "    end = [pd.to_datetime(d) for d in end]\n",
    "    \n",
    "\n",
    "    \n",
    "    for i in range(len(o)):\n",
    "        if r['Statiinide müopaatia riski hinnang'][0] == \"Tavapärane müopaatia risk\":\n",
    "            task=str(\"NR \"+str(o['FH_code'][i]))\n",
    "        elif r['Statiinide müopaatia riski hinnang'][0] == \"Tavapärasest kõrgem müopaatia risk\":\n",
    "            task=str(\"MR \"+str(o['FH_code'][i]))\n",
    "        risk_gantt=risk_gantt.append({'Task':task,'Start':dates[i],'Finish':end[i],'Drug name':o['Drug_name'][i]},ignore_index=True)\n",
    "        \n",
    "risk_gantt.sort_values('Task', inplace=True)"
   ]
  },
  {
   "cell_type": "code",
   "execution_count": null,
   "metadata": {},
   "outputs": [],
   "source": [
    "import plotly.graph_objects as go\n",
    "\n",
    "fig2 = ff.create_gantt(risk_gantt, title=\"Statin use Gantt chart\", showgrid_x=True, colors=colors, index_col='Drug name', show_colorbar=True,\n",
    "                      group_tasks=True, bar_width=0.3, width=1100)\n",
    "\n",
    "fig2.add_trace(\n",
    "    go.Scatter(\n",
    "        x = ['2016-06-02', '2016-06-02'],\n",
    "        y = [-1, len(risk_gantt.index) + 1],\n",
    "        mode = \"lines\",\n",
    "        line = go.scatter.Line(color = \"gray\", width = 1),\n",
    "        showlegend = False\n",
    "    )\n",
    ")\n",
    "\n",
    "fig2.add_trace(\n",
    "    go.Scatter(\n",
    "        x = ['2017-10-17', '2017-10-17'],\n",
    "        y = [-1, len(risk_gantt.index) + 1],\n",
    "        mode = \"lines\",\n",
    "        line = go.scatter.Line(color = \"red\", width = 1),\n",
    "        showlegend = False\n",
    "    )\n",
    ")\n",
    "\n",
    "fig2.show()"
   ]
  }
 ],
 "metadata": {
  "kernelspec": {
   "display_name": "Python 3",
   "language": "python",
   "name": "python3"
  },
  "language_info": {
   "codemirror_mode": {
    "name": "ipython",
    "version": 3
   },
   "file_extension": ".py",
   "mimetype": "text/x-python",
   "name": "python",
   "nbconvert_exporter": "python",
   "pygments_lexer": "ipython3",
   "version": "3.8.5"
  }
 },
 "nbformat": 4,
 "nbformat_minor": 4
}
